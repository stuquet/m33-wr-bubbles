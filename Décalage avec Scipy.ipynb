{
 "cells": [
  {
   "cell_type": "code",
   "execution_count": 1,
   "id": "controlled-program",
   "metadata": {},
   "outputs": [],
   "source": [
    "%matplotlib inline\n",
    "import astropy as ast\n",
    "import numpy as np\n",
    "from astropy.io import fits\n",
    "import matplotlib.pyplot as plt\n",
    "import scipy.ndimage\n",
    "from astropy.convolution import convolve, convolve_fft\n",
    "from scipy import optimize\n",
    "from photutils.psf import create_matching_kernel, TopHatWindow, CosineBellWindow"
   ]
  },
  {
   "cell_type": "code",
   "execution_count": 2,
   "id": "confident-acrobat",
   "metadata": {},
   "outputs": [],
   "source": [
    "def gaussian(height, center_x, center_y, width_x, width_y):\n",
    "    \"\"\"Returns a gaussian function with the given parameters\"\"\"\n",
    "    width_x = float(width_x)\n",
    "    width_y = float(width_y)\n",
    "    return lambda x,y: height*np.exp(\n",
    "                -(((center_x-x)/width_x)**2+((center_y-y)/width_y)**2)/2)\n",
    "\n",
    "def moments(data):\n",
    "    \"\"\"Returns (height, x, y, width_x, width_y)\n",
    "    the gaussian parameters of a 2D distribution by calculating its\n",
    "    moments \"\"\"\n",
    "    total = data.sum()\n",
    "    X, Y = np.indices(data.shape)\n",
    "    x = (X*data).sum()/total\n",
    "    y = (Y*data).sum()/total\n",
    "    col = data[:, int(y)]\n",
    "    width_x = np.sqrt(np.abs((np.arange(col.size)-x)**2*col).sum()/col.sum())\n",
    "    row = data[int(x), :]\n",
    "    width_y = np.sqrt(np.abs((np.arange(row.size)-y)**2*row).sum()/row.sum())\n",
    "    height = data.max()\n",
    "    return height, x, y, width_x, width_y\n",
    "\n",
    "def fitgaussian(data):\n",
    "    \"\"\"Returns (height, x, y, width_x, width_y)\n",
    "    the gaussian parameters of a 2D distribution found by a fit\"\"\"\n",
    "    params = moments(data)\n",
    "    errorfunction = lambda p: np.ravel(gaussian(*p)(*np.indices(data.shape)) -\n",
    "                                 data)\n",
    "    p, success = optimize.leastsq(errorfunction, params)\n",
    "    return p"
   ]
  },
  {
   "cell_type": "code",
   "execution_count": 14,
   "id": "paperback-level",
   "metadata": {},
   "outputs": [],
   "source": [
    "image_6563_flux = fits.getdata('/home/selin/Documents/M33/M33 SW/Fits/M33-SW_SN3.1.0.LineMaps.map.6563.1x1.flux.fits')\n",
    "header_6563_flux = fits.open('/home/selin/Documents/M33/M33 SW/Fits/M33-SW_SN3.1.0.LineMaps.map.6563.1x1.flux.fits')[0].header\n",
    "\n",
    "image_velocity = fits.getdata('/home/selin/Documents/M33/M33 SW/Fits/M33-SW_SN3.1.0.LineMaps.map.6563.1x1.velocity.fits')\n",
    "header_velocity = fits.open('/home/selin/Documents/M33/M33 SW/Fits/M33-SW_SN3.1.0.LineMaps.map.6563.1x1.velocity.fits')[0].header\n",
    "\n",
    "image_4861_flux = fits.getdata('/home/selin/Documents/M33/M33 SW/Fits/M33-SW_SN2.LineMaps.map.4861.1x1.flux.fits')\n",
    "header_4861_flux = fits.open('/home/selin/Documents/M33/M33 SW/Fits/M33-SW_SN2.LineMaps.map.4861.1x1.flux.fits')[0].header\n",
    "\n",
    "image_6584_flux = fits.getdata('/home/selin/Documents/M33/M33 SW/Fits/M33-SW_SN3.1.0.LineMaps.map.6583.1x1.flux.fits')\n",
    "header_6584_flux = fits.open('/home/selin/Documents/M33/M33 SW/Fits/M33-SW_SN3.1.0.LineMaps.map.6583.1x1.flux.fits')[0].header\n",
    "\n",
    "image_3727_flux = fits.getdata('/home/selin/Documents/M33/M33 SW/Fits/M33-SW_SN1.LineMaps.map.3726.1x1.flux.fits')\n",
    "header_3727_flux = fits.open('/home/selin/Documents/M33/M33 SW/Fits/M33-SW_SN1.LineMaps.map.3726.1x1.flux.fits')[0].header\n",
    "\n",
    "image_5007_flux = fits.getdata('/home/selin/Documents/M33/M33 SW/Fits/M33-SW_SN2.LineMaps.map.5007.1x1.flux.fits')\n",
    "header_5007_flux = fits.open('/home/selin/Documents/M33/M33 SW/Fits/M33-SW_SN2.LineMaps.map.5007.1x1.flux.fits')[0].header\n",
    "\n",
    "image_6717_flux = fits.getdata('/home/selin/Documents/M33/M33 SW/Fits/M33-SW_SN3.1.0.LineMaps.map.6716.1x1.flux.fits')\n",
    "header_6717_flux = fits.open('/home/selin/Documents/M33/M33 SW/Fits/M33-SW_SN3.1.0.LineMaps.map.6716.1x1.flux.fits')[0].header\n",
    "\n",
    "image_6731_flux = fits.getdata('/home/selin/Documents/M33/M33 SW/Fits/M33-SW_SN3.1.0.LineMaps.map.6731.1x1.flux.fits')\n",
    "header_6731_flux = fits.open('/home/selin/Documents/M33/M33 SW/Fits/M33-SW_SN3.1.0.LineMaps.map.6731.1x1.flux.fits')[0].header\n",
    "\n",
    "height_SN3 = fits.getdata('/home/selin/Documents/M33/M33 SW/Fits/M33-SW_SN3.1.0.LineMaps.map.all.1x1.height.fits')\n",
    "height_SN2 = fits.getdata('/home/selin/Documents/M33/M33 SW/Fits/M33-SW_SN2.LineMaps.map.all.1x1.height.fits')\n",
    "height_SN1 = fits.getdata('/home/selin/Documents/M33/M33 SW/Fits/M33-SW_SN1.LineMaps.map.all.1x1.height.fits')"
   ]
  },
  {
   "cell_type": "code",
   "execution_count": 42,
   "id": "artistic-forwarding",
   "metadata": {},
   "outputs": [],
   "source": [
    "coorx = 1070\n",
    "coory = 1020\n",
    "r = 10"
   ]
  },
  {
   "cell_type": "code",
   "execution_count": 43,
   "id": "altered-spell",
   "metadata": {},
   "outputs": [
    {
     "data": {
      "text/plain": [
       "<matplotlib.image.AxesImage at 0x7fdf91a16970>"
      ]
     },
     "execution_count": 43,
     "metadata": {},
     "output_type": "execute_result"
    },
    {
     "data": {
      "image/png": "[encoded data removed]",
      "text/plain": [
       "<Figure size 432x288 with 1 Axes>"
      ]
     },
     "metadata": {
      "needs_background": "light"
     },
     "output_type": "display_data"
    }
   ],
   "source": [
    "plt.imshow(height_SN3[coorx-r:coorx+r,coory-r:coory+r])"
   ]
  },
  {
   "cell_type": "code",
   "execution_count": 44,
   "id": "structured-investigator",
   "metadata": {},
   "outputs": [
    {
     "data": {
      "text/plain": [
       "<matplotlib.image.AxesImage at 0x7fdf9196ddf0>"
      ]
     },
     "execution_count": 44,
     "metadata": {},
     "output_type": "execute_result"
    },
    {
     "data": {
      "image/png": "[encoded data removed]",
      "text/plain": [
       "<Figure size 432x288 with 1 Axes>"
      ]
     },
     "metadata": {
      "needs_background": "light"
     },
     "output_type": "display_data"
    }
   ],
   "source": [
    "plt.imshow(height_SN2[coorx-r:coorx+r,coory-r:coory+r])"
   ]
  },
  {
   "cell_type": "code",
   "execution_count": 45,
   "id": "criminal-empty",
   "metadata": {},
   "outputs": [
    {
     "data": {
      "text/plain": [
       "<matplotlib.image.AxesImage at 0x7fdf91954280>"
      ]
     },
     "execution_count": 45,
     "metadata": {},
     "output_type": "execute_result"
    },
    {
     "data": {
      "image/png": "[encoded data removed]",
      "text/plain": [
       "<Figure size 432x288 with 1 Axes>"
      ]
     },
     "metadata": {
      "needs_background": "light"
     },
     "output_type": "display_data"
    }
   ],
   "source": [
    "plt.imshow(height_SN1[coorx-r:coorx+r,coory-r:coory+r])"
   ]
  },
  {
   "cell_type": "code",
   "execution_count": 46,
   "id": "every-greenhouse",
   "metadata": {},
   "outputs": [
    {
     "name": "stdout",
     "output_type": "stream",
     "text": [
      "7.537950426672382 8.737943533991887 1.3951103679576753 1.5501432027879922\n"
     ]
    },
    {
     "data": {
      "image/png": "[encoded data removed]",
      "text/plain": [
       "<Figure size 288x288 with 1 Axes>"
      ]
     },
     "metadata": {
      "needs_background": "light"
     },
     "output_type": "display_data"
    }
   ],
   "source": [
    "# Create the gaussian data\n",
    "Xin, Yin = np.mgrid[0:101, 0:101]\n",
    "data3 = height_SN3[coorx-r:coorx+r,coory-r:coory+r]\n",
    "\n",
    "plt.matshow(data3, cmap=plt.cm.gist_earth_r)\n",
    "\n",
    "params = fitgaussian(data3)\n",
    "fit = gaussian(*params)\n",
    "\n",
    "plt.contour(fit(*np.indices(data3.shape)), cmap=plt.cm.copper)\n",
    "ax = plt.gca()\n",
    "(height3, x3, y3, width_x3, width_y3) = params\n",
    "\n",
    "print(x3, y3, width_x3, width_y3)"
   ]
  },
  {
   "cell_type": "code",
   "execution_count": 47,
   "id": "engaged-poland",
   "metadata": {},
   "outputs": [
    {
     "name": "stdout",
     "output_type": "stream",
     "text": [
      "6.836679434474047 5.985230061556775 1.636088994641045 1.4591672078744018\n"
     ]
    },
    {
     "data": {
      "image/png": "[encoded data removed]",
      "text/plain": [
       "<Figure size 288x288 with 1 Axes>"
      ]
     },
     "metadata": {
      "needs_background": "light"
     },
     "output_type": "display_data"
    }
   ],
   "source": [
    "# Create the gaussian data\n",
    "Xin, Yin = np.mgrid[0:101, 0:101]\n",
    "data2 = height_SN2[coorx-r:coorx+r,coory-r:coory+r]\n",
    "\n",
    "plt.matshow(data2, cmap=plt.cm.gist_earth_r)\n",
    "\n",
    "params = fitgaussian(data2)\n",
    "fit = gaussian(*params)\n",
    "\n",
    "plt.contour(fit(*np.indices(data2.shape)), cmap=plt.cm.copper)\n",
    "ax = plt.gca()\n",
    "(height2, x2, y2, width_x2, width_y2) = params\n",
    "\n",
    "print(x2, y2, width_x2, width_y2)"
   ]
  },
  {
   "cell_type": "code",
   "execution_count": 48,
   "id": "democratic-contact",
   "metadata": {},
   "outputs": [
    {
     "name": "stdout",
     "output_type": "stream",
     "text": [
      "6.9014657212165496 6.747917778882999 2.9015750350444556 2.9097683305687436\n"
     ]
    },
    {
     "data": {
      "image/png": "[encoded data removed]",
      "text/plain": [
       "<Figure size 288x288 with 1 Axes>"
      ]
     },
     "metadata": {
      "needs_background": "light"
     },
     "output_type": "display_data"
    }
   ],
   "source": [
    "# Create the gaussian data\n",
    "Xin, Yin = np.mgrid[0:101, 0:101]\n",
    "data1 = height_SN1[coorx-r:coorx+r,coory-r:coory+r]\n",
    "\n",
    "plt.matshow(data1, cmap=plt.cm.gist_earth_r)\n",
    "\n",
    "params = fitgaussian(data1)\n",
    "fit = gaussian(*params)\n",
    "\n",
    "plt.contour(fit(*np.indices(data1.shape)), cmap=plt.cm.copper)\n",
    "ax = plt.gca()\n",
    "(height1, x1, y1, width_x1, width_y1) = params\n",
    "\n",
    "print(x1, y1, width_x1, width_y1)"
   ]
  },
  {
   "cell_type": "code",
   "execution_count": 49,
   "id": "native-assault",
   "metadata": {},
   "outputs": [],
   "source": [
    "shifted_4861 = scipy.ndimage.shift(image_4861_flux,[x3-x2,y3-y2],order=1)\n",
    "shifted_5007 = scipy.ndimage.shift(image_5007_flux,[x3-x2,y3-y2],order=1)\n",
    "shifted_3727 = scipy.ndimage.shift(image_3727_flux,[x3-x1,y3-y1],order=1)"
   ]
  },
  {
   "cell_type": "code",
   "execution_count": 50,
   "id": "union-chess",
   "metadata": {},
   "outputs": [],
   "source": [
    "shifted_data2 = scipy.ndimage.shift(data2,[x3-x2,y3-y2],order=1)\n",
    "shifted_data1 = scipy.ndimage.shift(data1,[x3-x1,y3-y1],order=1)\n",
    "window = CosineBellWindow(0.35)\n",
    "kernel_SN23 = create_matching_kernel(data3,shifted_data2, window=window)\n",
    "kernel_SN12 = create_matching_kernel(shifted_data2,shifted_data1, window=window)"
   ]
  },
  {
   "cell_type": "code",
   "execution_count": 51,
   "id": "veterinary-queensland",
   "metadata": {},
   "outputs": [
    {
     "name": "stderr",
     "output_type": "stream",
     "text": [
      "<ipython-input-51-611ffaa35920>:9: RuntimeWarning: invalid value encountered in true_divide\n",
      "  image_ratio_SII_flux = image_6717_flux / image_6731_flux\n",
      "<ipython-input-51-611ffaa35920>:15: RuntimeWarning: invalid value encountered in true_divide\n",
      "  image_OIII_Hbeta_flux = shifted_5007 / shifted_4861\n",
      "<ipython-input-51-611ffaa35920>:20: RuntimeWarning: divide by zero encountered in true_divide\n",
      "  image_Halpha_Hbeta_flux = image_6563_flux/image_4861_conv\n",
      "<ipython-input-51-611ffaa35920>:25: RuntimeWarning: invalid value encountered in true_divide\n",
      "  image_OIII_OII_flux = shifted_5007/image_OII_conv\n"
     ]
    }
   ],
   "source": [
    "image_OII_flux = shifted_3727\n",
    "header_OII_flux = header_3727_flux\n",
    "\n",
    "image_SII_flux = image_6731_flux + image_6717_flux\n",
    "header_SII_flux = header_6731_flux + header_6717_flux\n",
    "\n",
    "image_NII_Halpha_flux = image_6584_flux / image_6563_flux\n",
    "\n",
    "image_ratio_SII_flux = image_6717_flux / image_6731_flux\n",
    "\n",
    "image_SII_Halpha_flux = image_SII_flux / image_6563_flux\n",
    "\n",
    "#OIII (SN2) / Hbeta (SN2)\n",
    "\n",
    "image_OIII_Hbeta_flux = shifted_5007 / shifted_4861\n",
    "\n",
    "#Halpha (6563) (SN3) / Hbeta (4861) (SN2)\n",
    "\n",
    "image_4861_conv = convolve_fft(shifted_4861,kernel_SN23)\n",
    "image_Halpha_Hbeta_flux = image_6563_flux/image_4861_conv\n",
    "\n",
    "#OIII (5007) (SN2) / OII (SN1)\n",
    "\n",
    "image_OII_conv = convolve_fft(image_OII_flux,kernel_SN12)\n",
    "image_OIII_OII_flux = shifted_5007/image_OII_conv\n"
   ]
  },
  {
   "cell_type": "code",
   "execution_count": 52,
   "id": "designed-active",
   "metadata": {},
   "outputs": [
    {
     "name": "stderr",
     "output_type": "stream",
     "text": [
      "<ipython-input-52-fbff7ee0e37d>:7: RuntimeWarning: Mean of empty slice\n",
      "  data_no_nan[cx[i],cy[i]] = np.nanmean(image_data[cx[i]-1:cx[i]+1,cy[i]-1:cy[i]+1])\n"
     ]
    }
   ],
   "source": [
    "image_data = image_OIII_OII_flux\n",
    "header_data = header_OII_flux\n",
    "data_no_nan = image_data*1\n",
    "cond = np.isnan(image_data) == True\n",
    "cx,cy = np.where(cond)\n",
    "for i in range(0,len(cx)):\n",
    "   data_no_nan[cx[i],cy[i]] = np.nanmean(image_data[cx[i]-1:cx[i]+1,cy[i]-1:cy[i]+1])\n",
    "fits.writeto('NoNan_OIII_OII.fits',data=data_no_nan, header = header_data)\n",
    "\n",
    "hdu = fits.PrimaryHDU(data_no_nan)\n",
    "hdul = fits.HDUList([hdu])"
   ]
  },
  {
   "cell_type": "code",
   "execution_count": 53,
   "id": "naked-belfast",
   "metadata": {},
   "outputs": [
    {
     "name": "stderr",
     "output_type": "stream",
     "text": [
      "<ipython-input-53-518c5d7faed4>:7: RuntimeWarning: Mean of empty slice\n",
      "  data_no_nan[cx[i],cy[i]] = np.nanmean(image_data[cx[i]-1:cx[i]+1,cy[i]-1:cy[i]+1])\n"
     ]
    }
   ],
   "source": [
    "image_data = image_6563_flux\n",
    "header_data = header_6563_flux\n",
    "data_no_nan = image_data*1\n",
    "cond = np.isnan(image_data) == True\n",
    "cx,cy = np.where(cond)\n",
    "for i in range(0,len(cx)):\n",
    "   data_no_nan[cx[i],cy[i]] = np.nanmean(image_data[cx[i]-1:cx[i]+1,cy[i]-1:cy[i]+1])\n",
    "fits.writeto('NoNan_6563.fits',data=data_no_nan, header = header_data)\n",
    "\n",
    "hdu = fits.PrimaryHDU(data_no_nan)\n",
    "hdul = fits.HDUList([hdu])"
   ]
  },
  {
   "cell_type": "code",
   "execution_count": 54,
   "id": "adapted-collaboration",
   "metadata": {},
   "outputs": [
    {
     "name": "stderr",
     "output_type": "stream",
     "text": [
      "<ipython-input-54-72bb7460d81a>:7: RuntimeWarning: Mean of empty slice\n",
      "  data_no_nan[cx[i],cy[i]] = np.nanmean(image_data[cx[i]-1:cx[i]+1,cy[i]-1:cy[i]+1])\n"
     ]
    }
   ],
   "source": [
    "image_data = image_6584_flux\n",
    "header_data = header_6584_flux\n",
    "data_no_nan = image_data*1\n",
    "cond = np.isnan(image_data) == True\n",
    "cx,cy = np.where(cond)\n",
    "for i in range(0,len(cx)):\n",
    "   data_no_nan[cx[i],cy[i]] = np.nanmean(image_data[cx[i]-1:cx[i]+1,cy[i]-1:cy[i]+1])\n",
    "fits.writeto('NoNan_6584.fits',data=data_no_nan, header = header_data)\n",
    "\n",
    "hdu = fits.PrimaryHDU(data_no_nan)\n",
    "hdul = fits.HDUList([hdu])"
   ]
  },
  {
   "cell_type": "code",
   "execution_count": 55,
   "id": "cloudy-interface",
   "metadata": {},
   "outputs": [
    {
     "name": "stderr",
     "output_type": "stream",
     "text": [
      "<ipython-input-55-79fe51bc2f4d>:7: RuntimeWarning: Mean of empty slice\n",
      "  data_no_nan[cx[i],cy[i]] = np.nanmean(image_data[cx[i]-1:cx[i]+1,cy[i]-1:cy[i]+1])\n"
     ]
    }
   ],
   "source": [
    "image_data = shifted_4861\n",
    "header_data = header_4861_flux\n",
    "data_no_nan = image_data*1\n",
    "cond = np.isnan(image_data) == True\n",
    "cx,cy = np.where(cond)\n",
    "for i in range(0,len(cx)):\n",
    "   data_no_nan[cx[i],cy[i]] = np.nanmean(image_data[cx[i]-1:cx[i]+1,cy[i]-1:cy[i]+1])\n",
    "fits.writeto('NoNan_4861.fits',data=data_no_nan, header = header_data)\n",
    "\n",
    "hdu = fits.PrimaryHDU(data_no_nan)\n",
    "hdul = fits.HDUList([hdu])"
   ]
  },
  {
   "cell_type": "code",
   "execution_count": 56,
   "id": "proprietary-death",
   "metadata": {},
   "outputs": [
    {
     "name": "stderr",
     "output_type": "stream",
     "text": [
      "<ipython-input-56-fa33be05d489>:7: RuntimeWarning: Mean of empty slice\n",
      "  data_no_nan[cx[i],cy[i]] = np.nanmean(image_data[cx[i]-1:cx[i]+1,cy[i]-1:cy[i]+1])\n"
     ]
    }
   ],
   "source": [
    "image_data = image_OII_flux\n",
    "header_data = header_OII_flux\n",
    "data_no_nan = image_data*1\n",
    "cond = np.isnan(image_data) == True\n",
    "cx,cy = np.where(cond)\n",
    "for i in range(0,len(cx)):\n",
    "   data_no_nan[cx[i],cy[i]] = np.nanmean(image_data[cx[i]-1:cx[i]+1,cy[i]-1:cy[i]+1])\n",
    "fits.writeto('NoNan_OII.fits',data=data_no_nan, header = header_data)\n",
    "\n",
    "hdu = fits.PrimaryHDU(data_no_nan)\n",
    "hdul = fits.HDUList([hdu])"
   ]
  },
  {
   "cell_type": "code",
   "execution_count": 57,
   "id": "adequate-kingdom",
   "metadata": {},
   "outputs": [
    {
     "name": "stderr",
     "output_type": "stream",
     "text": [
      "<ipython-input-57-70175d918440>:7: RuntimeWarning: Mean of empty slice\n",
      "  data_no_nan[cx[i],cy[i]] = np.nanmean(image_data[cx[i]-1:cx[i]+1,cy[i]-1:cy[i]+1])\n"
     ]
    }
   ],
   "source": [
    "image_data = shifted_5007\n",
    "header_data = header_5007_flux\n",
    "data_no_nan = image_data*1\n",
    "cond = np.isnan(image_data) == True\n",
    "cx,cy = np.where(cond)\n",
    "for i in range(0,len(cx)):\n",
    "   data_no_nan[cx[i],cy[i]] = np.nanmean(image_data[cx[i]-1:cx[i]+1,cy[i]-1:cy[i]+1])\n",
    "fits.writeto('NoNan_5007.fits',data=data_no_nan, header = header_data)\n",
    "\n",
    "hdu = fits.PrimaryHDU(data_no_nan)\n",
    "hdul = fits.HDUList([hdu])"
   ]
  },
  {
   "cell_type": "code",
   "execution_count": 58,
   "id": "incorporated-serve",
   "metadata": {},
   "outputs": [
    {
     "name": "stderr",
     "output_type": "stream",
     "text": [
      "<ipython-input-58-c7f4cf5ca991>:7: RuntimeWarning: Mean of empty slice\n",
      "  data_no_nan[cx[i],cy[i]] = np.nanmean(image_data[cx[i]-1:cx[i]+1,cy[i]-1:cy[i]+1])\n"
     ]
    }
   ],
   "source": [
    "image_data = image_SII_flux\n",
    "header_data = header_SII_flux\n",
    "data_no_nan = image_data*1\n",
    "cond = np.isnan(image_data) == True\n",
    "cx,cy = np.where(cond)\n",
    "for i in range(0,len(cx)):\n",
    "   data_no_nan[cx[i],cy[i]] = np.nanmean(image_data[cx[i]-1:cx[i]+1,cy[i]-1:cy[i]+1])\n",
    "fits.writeto('NoNan_SII.fits',data=data_no_nan, header = header_data)\n",
    "\n",
    "hdu = fits.PrimaryHDU(data_no_nan)\n",
    "hdul = fits.HDUList([hdu])"
   ]
  },
  {
   "cell_type": "code",
   "execution_count": 59,
   "id": "loaded-foster",
   "metadata": {},
   "outputs": [
    {
     "name": "stderr",
     "output_type": "stream",
     "text": [
      "<ipython-input-59-ec3aa3748d6a>:7: RuntimeWarning: Mean of empty slice\n",
      "  data_no_nan[cx[i],cy[i]] = np.nanmean(image_data[cx[i]-1:cx[i]+1,cy[i]-1:cy[i]+1])\n"
     ]
    }
   ],
   "source": [
    "image_data = image_NII_Halpha_flux\n",
    "header_data = header_6563_flux\n",
    "data_no_nan = image_data*1\n",
    "cond = np.isnan(image_data) == True\n",
    "cx,cy = np.where(cond)\n",
    "for i in range(0,len(cx)):\n",
    "   data_no_nan[cx[i],cy[i]] = np.nanmean(image_data[cx[i]-1:cx[i]+1,cy[i]-1:cy[i]+1])\n",
    "fits.writeto('NoNan_NII_Halpha.fits',data=data_no_nan, header = header_data)\n",
    "\n",
    "hdu = fits.PrimaryHDU(data_no_nan)\n",
    "hdul = fits.HDUList([hdu])"
   ]
  },
  {
   "cell_type": "code",
   "execution_count": 60,
   "id": "higher-gnome",
   "metadata": {},
   "outputs": [
    {
     "name": "stderr",
     "output_type": "stream",
     "text": [
      "<ipython-input-60-13851ff37ca6>:7: RuntimeWarning: Mean of empty slice\n",
      "  data_no_nan[cx[i],cy[i]] = np.nanmean(image_data[cx[i]-1:cx[i]+1,cy[i]-1:cy[i]+1])\n"
     ]
    }
   ],
   "source": [
    "image_data = image_SII_Halpha_flux\n",
    "header_data = header_6563_flux\n",
    "data_no_nan = image_data*1\n",
    "cond = np.isnan(image_data) == True\n",
    "cx,cy = np.where(cond)\n",
    "for i in range(0,len(cx)):\n",
    "   data_no_nan[cx[i],cy[i]] = np.nanmean(image_data[cx[i]-1:cx[i]+1,cy[i]-1:cy[i]+1])\n",
    "fits.writeto('NoNan_SII_Halpha.fits',data=data_no_nan, header = header_data)\n",
    "\n",
    "hdu = fits.PrimaryHDU(data_no_nan)\n",
    "hdul = fits.HDUList([hdu])"
   ]
  },
  {
   "cell_type": "code",
   "execution_count": 61,
   "id": "moving-dryer",
   "metadata": {},
   "outputs": [
    {
     "name": "stderr",
     "output_type": "stream",
     "text": [
      "<ipython-input-61-d8b468015e1b>:7: RuntimeWarning: Mean of empty slice\n",
      "  data_no_nan[cx[i],cy[i]] = np.nanmean(image_data[cx[i]-1:cx[i]+1,cy[i]-1:cy[i]+1])\n"
     ]
    }
   ],
   "source": [
    "image_data = image_ratio_SII_flux\n",
    "header_data = header_SII_flux\n",
    "data_no_nan = image_data*1\n",
    "cond = np.isnan(image_data) == True\n",
    "cx,cy = np.where(cond)\n",
    "for i in range(0,len(cx)):\n",
    "   data_no_nan[cx[i],cy[i]] = np.nanmean(image_data[cx[i]-1:cx[i]+1,cy[i]-1:cy[i]+1])\n",
    "fits.writeto('NoNan_SII_ratio.fits',data=data_no_nan, header = header_data)\n",
    "\n",
    "hdu = fits.PrimaryHDU(data_no_nan)\n",
    "hdul = fits.HDUList([hdu])"
   ]
  },
  {
   "cell_type": "code",
   "execution_count": 62,
   "id": "distinct-decimal",
   "metadata": {},
   "outputs": [
    {
     "name": "stderr",
     "output_type": "stream",
     "text": [
      "<ipython-input-62-54f57127e470>:7: RuntimeWarning: Mean of empty slice\n",
      "  data_no_nan[cx[i],cy[i]] = np.nanmean(image_data[cx[i]-1:cx[i]+1,cy[i]-1:cy[i]+1])\n"
     ]
    }
   ],
   "source": [
    "image_data = image_OIII_Hbeta_flux\n",
    "header_data = header_4861_flux\n",
    "data_no_nan = image_data*1\n",
    "cond = np.isnan(image_data) == True\n",
    "cx,cy = np.where(cond)\n",
    "for i in range(0,len(cx)):\n",
    "   data_no_nan[cx[i],cy[i]] = np.nanmean(image_data[cx[i]-1:cx[i]+1,cy[i]-1:cy[i]+1])\n",
    "fits.writeto('NoNan_OIII_Hbeta.fits',data=data_no_nan, header = header_data)\n",
    "\n",
    "hdu = fits.PrimaryHDU(data_no_nan)\n",
    "hdul = fits.HDUList([hdu])"
   ]
  },
  {
   "cell_type": "code",
   "execution_count": 63,
   "id": "geological-atlas",
   "metadata": {},
   "outputs": [
    {
     "name": "stderr",
     "output_type": "stream",
     "text": [
      "<ipython-input-63-814936646291>:7: RuntimeWarning: Mean of empty slice\n",
      "  data_no_nan[cx[i],cy[i]] = np.nanmean(image_data[cx[i]-1:cx[i]+1,cy[i]-1:cy[i]+1])\n"
     ]
    }
   ],
   "source": [
    "image_data = image_Halpha_Hbeta_flux\n",
    "header_data = header_4861_flux\n",
    "data_no_nan = image_data*1\n",
    "cond = np.isnan(image_data) == True\n",
    "cx,cy = np.where(cond)\n",
    "for i in range(0,len(cx)):\n",
    "   data_no_nan[cx[i],cy[i]] = np.nanmean(image_data[cx[i]-1:cx[i]+1,cy[i]-1:cy[i]+1])\n",
    "fits.writeto('NoNan_Halpha_Hbeta.fits',data=data_no_nan, header = header_data)\n",
    "\n",
    "hdu = fits.PrimaryHDU(data_no_nan)\n",
    "hdul = fits.HDUList([hdu])"
   ]
  },
  {
   "cell_type": "code",
   "execution_count": 64,
   "id": "loving-skill",
   "metadata": {},
   "outputs": [],
   "source": [
    "image_4959_flux = fits.getdata('/home/selin/Documents/M33/M33 SW/Fits/M33-SW_SN2.LineMaps.map.4959.1x1.flux.fits')\n",
    "header_4959_flux = fits.open('/home/selin/Documents/M33/M33 SW/Fits/M33-SW_SN2.LineMaps.map.4959.1x1.flux.fits')[0].header"
   ]
  },
  {
   "cell_type": "code",
   "execution_count": 65,
   "id": "requested-ceremony",
   "metadata": {},
   "outputs": [],
   "source": [
    "shifted_4959 = scipy.ndimage.shift(image_4959_flux,[x3-x2,y3-y2],order=1)"
   ]
  },
  {
   "cell_type": "code",
   "execution_count": 66,
   "id": "blond-census",
   "metadata": {},
   "outputs": [
    {
     "name": "stderr",
     "output_type": "stream",
     "text": [
      "<ipython-input-66-aae8bebcd9be>:7: RuntimeWarning: Mean of empty slice\n",
      "  data_no_nan[cx[i],cy[i]] = np.nanmean(image_data[cx[i]-1:cx[i]+1,cy[i]-1:cy[i]+1])\n"
     ]
    }
   ],
   "source": [
    "image_data = shifted_4959\n",
    "header_data = header_4959_flux\n",
    "data_no_nan = image_data*1\n",
    "cond = np.isnan(image_data) == True\n",
    "cx,cy = np.where(cond)\n",
    "for i in range(0,len(cx)):\n",
    "   data_no_nan[cx[i],cy[i]] = np.nanmean(image_data[cx[i]-1:cx[i]+1,cy[i]-1:cy[i]+1])\n",
    "fits.writeto('NoNan_4959.fits',data=data_no_nan, header = header_data)\n",
    "\n",
    "hdu = fits.PrimaryHDU(data_no_nan)\n",
    "hdul = fits.HDUList([hdu])"
   ]
  }
 ],
 "metadata": {
  "kernelspec": {
   "display_name": "Python 3",
   "language": "python",
   "name": "python3"
  },
  "language_info": {
   "codemirror_mode": {
    "name": "ipython",
    "version": 3
   },
   "file_extension": ".py",
   "mimetype": "text/x-python",
   "name": "python",
   "nbconvert_exporter": "python",
   "pygments_lexer": "ipython3",
   "version": "3.8.8"
  }
 },
 "nbformat": 4,
 "nbformat_minor": 5
}
