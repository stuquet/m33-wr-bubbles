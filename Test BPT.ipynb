{
 "cells": [
  {
   "cell_type": "code",
   "execution_count": 2,
   "metadata": {},
   "outputs": [],
   "source": [
    "import numpy as np\n",
    "import scipy as sc\n",
    "import pylab as plt\n",
    "from astropy.io import fits"
   ]
  },
  {
   "cell_type": "code",
   "execution_count": 3,
   "metadata": {},
   "outputs": [],
   "source": [
    "halpha = fits.getdata('/home/selin/Documents/M33/M33 SW/Fits/NoNan_6563.fits')\n",
    "hbeta = fits.getdata('/home/selin/Documents/M33/M33 SW/Fits/NoNan_4861.fits')\n",
    "oIII = fits.getdata('/home/selin/Documents/M33/M33 SW/Fits/NoNan_5007.fits')\n",
    "nII = fits.getdata('/home/selin/Documents/M33/M33 SW/Fits/NoNan_6584.fits')"
   ]
  },
  {
   "cell_type": "code",
   "execution_count": 5,
   "metadata": {},
   "outputs": [],
   "source": [
    "tab_coorx = []\n",
    "tab_coory = []\n",
    "tab_nom = []\n",
    "\n",
    "with open('/home/selin/Documents/M33/M33 SW/WRlistSWpx','r') as a_file :\n",
    "    \n",
    "    for line in a_file :\n",
    "        line = line.split(',')\n",
    "        tab_coorx.append(int(float(line[1])))\n",
    "        tab_coory.append(int(float(line[0])))\n",
    "        tab_nom.append(line[2])\n",
    "        \n",
    "tab_coorx = np.asarray(tab_coorx)\n",
    "tab_coory = np.asarray(tab_coory)"
   ]
  },
  {
   "cell_type": "code",
   "execution_count": 40,
   "metadata": {},
   "outputs": [
    {
     "data": {
      "image/png": "[encoded data removed]",
      "text/plain": [
       "<Figure size 432x288 with 1 Axes>"
      ]
     },
     "metadata": {
      "needs_background": "light"
     },
     "output_type": "display_data"
    }
   ],
   "source": [
    "n = 21\n",
    "r = 15\n",
    "coorx = tab_coorx[n]\n",
    "coory = tab_coory[n]\n",
    "nom = tab_nom[n]\n",
    "coorx_sn=tab_coorx[n]-10\n",
    "coory_sn=tab_coory[n]-15\n",
    "r_sn=10\n",
    "\n",
    "coord_circ = []\n",
    "coord_circ_sn=[]\n",
    "\n",
    "for i in range(0,2*r):\n",
    "    for j in range(0,2*r):\n",
    "        if ((i-r)**2 + (j-r)**2) < r**2 :\n",
    "            coord_circ.append([i,j])\n",
    "            \n",
    "for i in range(0,2*r_sn):\n",
    "    for j in range(0,2*r_sn):\n",
    "        if ((i-r_sn)**2 + (j-r_sn)**2) < r_sn**2 :\n",
    "            coord_circ_sn.append([i,j])\n",
    "            \n",
    "halpha2 = halpha[coorx-r:coorx+r,coory-r:coory+r]\n",
    "halpha2 = np.flipud(halpha2)\n",
    "plt.imshow(halpha2)\n",
    "\n",
    "halpha2_sn = halpha[coorx_sn-r_sn:coorx_sn+r_sn,coory_sn-r_sn:coory_sn+r_sn]\n",
    "halpha2_sn = np.flipud(halpha2_sn)\n",
    "#plt.imshow(halpha2_sn)"
   ]
  },
  {
   "cell_type": "code",
   "execution_count": 41,
   "metadata": {},
   "outputs": [
    {
     "name": "stderr",
     "output_type": "stream",
     "text": [
      "<ipython-input-41-70d7e9ec982c>:48: RuntimeWarning: invalid value encountered in log10\n",
      "  yy_sn  = np.log10(oIII3_sn/hbeta3_sn)      # log10(OIII/Hbeta)\n"
     ]
    },
    {
     "data": {
      "image/png": "[encoded data removed]",
      "text/plain": [
       "<Figure size 432x288 with 1 Axes>"
      ]
     },
     "metadata": {
      "needs_background": "light"
     },
     "output_type": "display_data"
    }
   ],
   "source": [
    "halpha2 = halpha[coorx-r:coorx+r,coory-r:coory+r]\n",
    "halpha2 = np.flipud(halpha2)\n",
    "halpha3 = [halpha2[i,j] for [i,j] in coord_circ]\n",
    "halpha3 = np.asarray(halpha3)\n",
    "\n",
    "hbeta2 = hbeta[coorx-r:coorx+r,coory-r:coory+r]\n",
    "hbeta2 = np.flipud(hbeta2)\n",
    "hbeta3 = [hbeta2[i,j] for [i,j] in coord_circ]\n",
    "hbeta3 = np.asarray(hbeta3)\n",
    "\n",
    "oIII2 = oIII[coorx-r:coorx+r,coory-r:coory+r]\n",
    "oIII2 = np.flipud(oIII2)\n",
    "oIII3 = [oIII2[i,j] for [i,j] in coord_circ]\n",
    "oIII3 = np.asarray(oIII3)\n",
    "\n",
    "nII2 = nII[coorx-r:coorx+r,coory-r:coory+r]\n",
    "nII2 = np.flipud(nII2)\n",
    "nII3 = [nII2[i,j] for [i,j] in coord_circ]\n",
    "nII3 = np.asarray(nII3)\n",
    "\n",
    "f = plt.figure(1)\n",
    "xx  = np.log10(nII3/halpha3)      # log10(NII/Halpha)\n",
    "yy  = np.log10(oIII3/hbeta3)      # log10(OIII/Hbeta)\n",
    "\n",
    "plt.scatter(xx,yy)\n",
    "\n",
    "halpha2_sn = halpha[coorx_sn-r_sn:coorx_sn+r_sn,coory_sn-r_sn:coory_sn+r_sn]\n",
    "halpha2_sn = np.flipud(halpha2_sn)\n",
    "halpha3_sn = [halpha2_sn[i,j] for [i,j] in coord_circ_sn]\n",
    "halpha3_sn = np.asarray(halpha3_sn)\n",
    "\n",
    "hbeta2_sn = hbeta[coorx_sn-r_sn:coorx_sn+r_sn,coory_sn-3-r_sn:coory_sn-3+r_sn]\n",
    "hbeta2_sn = np.flipud(hbeta2_sn)\n",
    "hbeta3_sn = [hbeta2_sn[i,j] for [i,j] in coord_circ_sn]\n",
    "hbeta3_sn = np.asarray(hbeta3_sn)\n",
    "\n",
    "oIII2_sn = oIII[coorx_sn-r_sn:coorx_sn+r_sn,coory_sn-3-r_sn:coory_sn-3+r_sn]\n",
    "oIII2_sn = np.flipud(oIII2_sn)\n",
    "oIII3_sn = [oIII2_sn[i,j] for [i,j] in coord_circ_sn]\n",
    "oIII3_sn = np.asarray(oIII3_sn)\n",
    "\n",
    "nII2_sn = nII[coorx_sn-r_sn:coorx_sn+r_sn,coory_sn-r_sn:coory_sn+r_sn]\n",
    "nII2_sn = np.flipud(nII2_sn)\n",
    "nII3_sn = [nII2_sn[i,j] for [i,j] in coord_circ_sn]\n",
    "nII3_sn = np.asarray(nII3_sn)\n",
    "\n",
    "xx_sn  = np.log10(nII3_sn/halpha3_sn)      # log10(NII/Halpha)\n",
    "yy_sn  = np.log10(oIII3_sn/hbeta3_sn)      # log10(OIII/Hbeta)\n",
    "\n",
    "#plt.scatter(xx_sn,yy_sn, color='r', label = 'Supernova remnant')\n",
    "\n",
    "X = np.linspace(-1.5,0.3)\n",
    "Y = (0.61/( X  - 0.47  )) + 1.19\n",
    "\n",
    "# Kauffmann+03 ---------------------------------------\n",
    "Xk = np.linspace(-1.5,0.)\n",
    "Yk = 0.61/(Xk -0.05) + 1.3\n",
    "\n",
    "plt.plot(X,Y,'.k')\n",
    "plt.plot(Xk,Yk,'--k')\n",
    "\n",
    "plt.xlabel(r'log([NII]6583/H$\\alpha$)')\n",
    "plt.ylabel(r'log([OIII]5007/H$\\beta$)')\n",
    "plt.xlim(-1.5,0.2)\n",
    "plt.ylim(-2,2)\n",
    "plt.title(nom)\n",
    "\n",
    "plt.savefig(\"BPT_{}.png\".format(nom))\n",
    "plt.show()"
   ]
  },
  {
   "cell_type": "code",
   "execution_count": null,
   "metadata": {},
   "outputs": [],
   "source": []
  }
 ],
 "metadata": {
  "kernelspec": {
   "display_name": "Python 3",
   "language": "python",
   "name": "python3"
  },
  "language_info": {
   "codemirror_mode": {
    "name": "ipython",
    "version": 3
   },
   "file_extension": ".py",
   "mimetype": "text/x-python",
   "name": "python",
   "nbconvert_exporter": "python",
   "pygments_lexer": "ipython3",
   "version": "3.8.8"
  }
 },
 "nbformat": 4,
 "nbformat_minor": 4
}
